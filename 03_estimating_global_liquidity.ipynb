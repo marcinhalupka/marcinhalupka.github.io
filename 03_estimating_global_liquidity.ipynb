{
 "cells": [
  {
   "cell_type": "markdown",
   "id": "e0388969",
   "metadata": {},
   "source": [
    "# Case study - estimating global liquidity"
   ]
  },
  {
   "cell_type": "markdown",
   "id": "9d4d22be",
   "metadata": {},
   "source": [
    "Main idea - when there's liquidity available, line of least resistance for risky assets is up, otherwise it's down.\n",
    "\n",
    "Let's describe the process of gathering that data.\n",
    "\n",
    "I'll start from tradingview formula that can be copy pasted to have a quick look at the visual representation.\n",
    "\n",
    "* `FRED:WALCL+FRED:JPNASSETS*FX_IDC:JPYUSD+ECONOMICS:CNCBBS*FX_IDC:CNYUSD+FRED:ECBASSETSW*FX:EURUSD-FRED:RRPONTSYD-FRED:WTREGEN`\n",
    "\n",
    "How do we get that?"
   ]
  },
  {
   "cell_type": "code",
   "execution_count": 1,
   "id": "f52d840a",
   "metadata": {},
   "outputs": [
    {
     "name": "stdout",
     "output_type": "stream",
     "text": [
      "                WALCL\n",
      "DATE                 \n",
      "2020-01-01  4173626.0\n",
      "2020-01-08  4149544.0\n",
      "2020-01-15  4175850.0\n",
      "2020-01-22  4145912.0\n",
      "2020-01-29  4151630.0\n",
      "...               ...\n",
      "2023-03-15  8639300.0\n",
      "2023-03-22  8733787.0\n",
      "2023-03-29  8705942.0\n",
      "2023-04-05  8632384.0\n",
      "2023-04-12  8614797.0\n",
      "\n",
      "[172 rows x 1 columns]\n"
     ]
    }
   ],
   "source": [
    "import pandas_datareader as pdr\n",
    "\n",
    "start_date = '2020-01-01'  # specify the start date\n",
    "end_date = '2023-04-19'  # specify the end date\n",
    "\n",
    "# download the data from FRED\n",
    "fred_data = pdr.DataReader('WALCL', 'fred', start_date, end_date)\n",
    "\n",
    "print(fred_data)"
   ]
  },
  {
   "cell_type": "markdown",
   "id": "42581816",
   "metadata": {},
   "source": [
    "We can, in a pretty straightforward way, obtain the data for all pieces of the data available at FRED."
   ]
  },
  {
   "cell_type": "code",
   "execution_count": 2,
   "id": "4f2797ca",
   "metadata": {},
   "outputs": [],
   "source": [
    "fred_symbols = ['WALCL', 'JPNASSETS', 'ECBASSETSW', 'RRPONTSYD', 'WTREGEN']"
   ]
  },
  {
   "cell_type": "code",
   "execution_count": 3,
   "id": "2d81da17",
   "metadata": {},
   "outputs": [],
   "source": [
    "fred_data = {}\n",
    "\n",
    "for symbol in fred_symbols:\n",
    "    symbol_data = pdr.DataReader(symbol, 'fred', start_date, end_date)\n",
    "    fred_data[symbol] = symbol_data"
   ]
  },
  {
   "cell_type": "markdown",
   "id": "122a6d9b",
   "metadata": {},
   "source": [
    "We don't care at the moment about the format/shape of the data, now let's get it in a raw format and when we have all in place, we'll do the reshaping and other preprocessing."
   ]
  },
  {
   "cell_type": "code",
   "execution_count": 4,
   "id": "c20d0d43",
   "metadata": {},
   "outputs": [],
   "source": [
    "fx_symbols = ['JPY=X', 'EURUSD=X', 'CNY=X']"
   ]
  },
  {
   "cell_type": "markdown",
   "id": "f2db3170",
   "metadata": {},
   "source": [
    "We need to obtain some data on currencies paired with USD to express all parts of the liquidity equation in the same unit - USD.\n",
    "\n",
    "Simple way to do that is to use a `yfinance` API."
   ]
  },
  {
   "cell_type": "code",
   "execution_count": 5,
   "id": "3e8f0854",
   "metadata": {},
   "outputs": [
    {
     "name": "stdout",
     "output_type": "stream",
     "text": [
      "[*********************100%***********************]  1 of 1 completed\n",
      "                  Open        High         Low       Close   Adj Close  Volume\n",
      "Date                                                                          \n",
      "2010-01-01   92.940002   93.089996   92.919998   92.919998   92.919998       0\n",
      "2010-01-04   92.760002   93.200996   92.196999   92.495003   92.495003       0\n",
      "2010-01-05   92.470001   92.486000   91.282997   91.584999   91.584999       0\n",
      "2010-01-06   91.550003   92.709999   91.522003   92.356003   92.356003       0\n",
      "2010-01-07   92.335999   93.735001   92.110001   93.389999   93.389999       0\n",
      "...                ...         ...         ...         ...         ...     ...\n",
      "2023-04-12  133.593994  134.022995  132.781006  133.593994  133.593994       0\n",
      "2023-04-13  133.085007  133.367004  132.029999  133.085007  133.085007       0\n",
      "2023-04-14  132.487000  133.755997  132.175995  132.487000  132.487000       0\n",
      "2023-04-17  133.970993  134.565002  133.714005  133.970993  133.970993       0\n",
      "2023-04-18  134.425003  134.705994  133.860001  134.001007  134.001007       0\n",
      "\n",
      "[3463 rows x 6 columns]\n"
     ]
    }
   ],
   "source": [
    "import yfinance as yf\n",
    "\n",
    "start = '2010-01-01'\n",
    "end = '2023-04-19'\n",
    "interval = '1d'\n",
    "\n",
    "yfin_data = yf.download(tickers='JPY=X',\n",
    "                        start=start,\n",
    "                        end=end,\n",
    "                        interval=interval,\n",
    "                        threads=False)\n",
    "\n",
    "print(yfin_data)"
   ]
  },
  {
   "cell_type": "code",
   "execution_count": 6,
   "id": "bfbea7a3",
   "metadata": {},
   "outputs": [
    {
     "name": "stdout",
     "output_type": "stream",
     "text": [
      "[*********************100%***********************]  1 of 1 completed\n",
      "[*********************100%***********************]  1 of 1 completed\n",
      "[*********************100%***********************]  1 of 1 completed\n"
     ]
    }
   ],
   "source": [
    "fx_data = {}\n",
    "\n",
    "for symbol in fx_symbols:\n",
    "    symbol_data = yf.download(tickers=symbol,\n",
    "                              start=start,\n",
    "                              end=end,\n",
    "                              interval=interval,\n",
    "                              threads=False)\n",
    "    fx_data[symbol] = symbol_data"
   ]
  },
  {
   "cell_type": "markdown",
   "id": "19a2c7a9",
   "metadata": {},
   "source": [
    "And the remaining piece of data is `CNCBBS` - China Central Bank Balance Sheet.\n",
    "\n",
    "I was unable to find an API to get this data in a way we got the previous samples (you can download it if you have tradingview Pro+ account).\n",
    "\n",
    "After a couple minutes of browsing the internet and \"hacking\", you can find a hidden API with an endpoint that you can send request to:\n",
    "\n",
    "* `https://www.fxempire.com/api/v1/en/macro-indicators/china/central-bank-balance-sheet/history?latest=60&frequency=Monthly`\n",
    "\n",
    "A bit ugly but as the response is rather short, let's copy-paste that here."
   ]
  },
  {
   "cell_type": "code",
   "execution_count": 7,
   "id": "ae0eca71",
   "metadata": {},
   "outputs": [],
   "source": [
    "rows = [{\"formattedDate\":\"Mar 18\",\"close\":359608.4,\"formattedClose\":\"359,608.4\",\"timestamp\":1522454400},{\"formattedDate\":\"Apr 18\",\"close\":353225.27,\"formattedClose\":\"353,225.27\",\"timestamp\":1525046400},{\"formattedDate\":\"May 18\",\"close\":356149.44,\"formattedClose\":\"356,149.44\",\"timestamp\":1527724800},{\"formattedDate\":\"Jun 18\",\"close\":362702.44,\"formattedClose\":\"362,702.44\",\"timestamp\":1530316800},{\"formattedDate\":\"Jul 18\",\"close\":363282.97,\"formattedClose\":\"363,282.97\",\"timestamp\":1532995200},{\"formattedDate\":\"Aug 18\",\"close\":362616.86,\"formattedClose\":\"362,616.86\",\"timestamp\":1535673600},{\"formattedDate\":\"Sep 18\",\"close\":366229.75,\"formattedClose\":\"366,229.75\",\"timestamp\":1538265600},{\"formattedDate\":\"Oct 18\",\"close\":358337.97,\"formattedClose\":\"358,337.97\",\"timestamp\":1540944000},{\"formattedDate\":\"Nov 18\",\"close\":359069.94,\"formattedClose\":\"359,069.94\",\"timestamp\":1543536000},{\"formattedDate\":\"Dec 18\",\"close\":372492.06,\"formattedClose\":\"372,492.06\",\"timestamp\":1546214400},{\"formattedDate\":\"Jan 19\",\"close\":363271.82,\"formattedClose\":\"363,271.82\",\"timestamp\":1548892800},{\"formattedDate\":\"Feb 19\",\"close\":356209.39,\"formattedClose\":\"356,209.39\",\"timestamp\":1551312000},{\"formattedDate\":\"Mar 19\",\"close\":348552.63,\"formattedClose\":\"348,552.63\",\"timestamp\":1553990400},{\"formattedDate\":\"Apr 19\",\"close\":348592.42,\"formattedClose\":\"348,592.42\",\"timestamp\":1556582400},{\"formattedDate\":\"May 19\",\"close\":359014.72,\"formattedClose\":\"359,014.72\",\"timestamp\":1559260800},{\"formattedDate\":\"Jun 19\",\"close\":363595.27,\"formattedClose\":\"363,595.27\",\"timestamp\":1561852800},{\"formattedDate\":\"Jul 19\",\"close\":357952.87,\"formattedClose\":\"357,952.87\",\"timestamp\":1564531200},{\"formattedDate\":\"Aug 19\",\"close\":360352.9,\"formattedClose\":\"360,352.9\",\"timestamp\":1567209600},{\"formattedDate\":\"Sep 19\",\"close\":361966.76,\"formattedClose\":\"361,966.76\",\"timestamp\":1569801600},{\"formattedDate\":\"Oct 19\",\"close\":359640.48,\"formattedClose\":\"359,640.48\",\"timestamp\":1572480000},{\"formattedDate\":\"Nov 19\",\"close\":363075.36,\"formattedClose\":\"363,075.36\",\"timestamp\":1575072000},{\"formattedDate\":\"Dec 19\",\"close\":371130.48,\"formattedClose\":\"371,130.48\",\"timestamp\":1577750400},{\"formattedDate\":\"Jan 20\",\"close\":373495.1,\"formattedClose\":\"373,495.1\",\"timestamp\":1580428800},{\"formattedDate\":\"Feb 20\",\"close\":361021.26,\"formattedClose\":\"361,021.26\",\"timestamp\":1582934400},{\"formattedDate\":\"Mar 20\",\"close\":365374.74,\"formattedClose\":\"365,374.74\",\"timestamp\":1585612800},{\"formattedDate\":\"Apr 20\",\"close\":360347.67,\"formattedClose\":\"360,347.67\",\"timestamp\":1588204800},{\"formattedDate\":\"May 20\",\"close\":367870.74,\"formattedClose\":\"367,870.74\",\"timestamp\":1590883200},{\"formattedDate\":\"Jun 20\",\"close\":363931.3,\"formattedClose\":\"363,931.3\",\"timestamp\":1593475200},{\"formattedDate\":\"Jul 20\",\"close\":357924.9,\"formattedClose\":\"357,924.9\",\"timestamp\":1596153600},{\"formattedDate\":\"Aug 20\",\"close\":365052.29,\"formattedClose\":\"365,052.29\",\"timestamp\":1598832000},{\"formattedDate\":\"Sep 20\",\"close\":374727.69,\"formattedClose\":\"374,727.69\",\"timestamp\":1601424000},{\"formattedDate\":\"Oct 20\",\"close\":371812.72,\"formattedClose\":\"371,812.72\",\"timestamp\":1604102400},{\"formattedDate\":\"Nov 20\",\"close\":381989.33,\"formattedClose\":\"381,989.33\",\"timestamp\":1606694400},{\"formattedDate\":\"Dec 20\",\"close\":387675.54,\"formattedClose\":\"387,675.54\",\"timestamp\":1609372800},{\"formattedDate\":\"Jan 21\",\"close\":389131.46,\"formattedClose\":\"389,131.46\",\"timestamp\":1612051200},{\"formattedDate\":\"Feb 21\",\"close\":383093.17,\"formattedClose\":\"383,093.17\",\"timestamp\":1614470400},{\"formattedDate\":\"Mar 21\",\"close\":382772.77,\"formattedClose\":\"382,772.77\",\"timestamp\":1617148800},{\"formattedDate\":\"Apr 21\",\"close\":382315.47,\"formattedClose\":\"382,315.47\",\"timestamp\":1619740800},{\"formattedDate\":\"May 21\",\"close\":386916.77,\"formattedClose\":\"386,916.77\",\"timestamp\":1622419200},{\"formattedDate\":\"Jun 21\",\"close\":389897.36,\"formattedClose\":\"389,897.36\",\"timestamp\":1625011200},{\"formattedDate\":\"Jul 21\",\"close\":380501.62,\"formattedClose\":\"380,501.62\",\"timestamp\":1627689600},{\"formattedDate\":\"Aug 21\",\"close\":379487.47,\"formattedClose\":\"379,487.47\",\"timestamp\":1630368000},{\"formattedDate\":\"Sep 21\",\"close\":391973.65,\"formattedClose\":\"391,973.65\",\"timestamp\":1632960000},{\"formattedDate\":\"Oct 21\",\"close\":394919.35,\"formattedClose\":\"394,919.35\",\"timestamp\":1635638400},{\"formattedDate\":\"Nov 21\",\"close\":393114.26,\"formattedClose\":\"393,114.26\",\"timestamp\":1638230400},{\"formattedDate\":\"Dec 21\",\"close\":395702.25,\"formattedClose\":\"395,702.25\",\"timestamp\":1640908800},{\"formattedDate\":\"Jan 22\",\"close\":403125.23,\"formattedClose\":\"403,125.23\",\"timestamp\":1643587200},{\"formattedDate\":\"Feb 22\",\"close\":406229,\"formattedClose\":\"406,229\",\"timestamp\":1646006400},{\"formattedDate\":\"Mar 22\",\"close\":398725.89,\"formattedClose\":\"398,725.89\",\"timestamp\":1648684800},{\"formattedDate\":\"Apr 22\",\"close\":389336.03,\"formattedClose\":\"389,336.03\",\"timestamp\":1651276800},{\"formattedDate\":\"May 22\",\"close\":385319.77,\"formattedClose\":\"385,319.77\",\"timestamp\":1653955200},{\"formattedDate\":\"Jun 22\",\"close\":392554.6,\"formattedClose\":\"392,554.6\",\"timestamp\":1656547200},{\"formattedDate\":\"Jul 22\",\"close\":385627.47,\"formattedClose\":\"385,627.47\",\"timestamp\":1659225600},{\"formattedDate\":\"Aug 22\",\"close\":384642.28,\"formattedClose\":\"384,642.28\",\"timestamp\":1661904000},{\"formattedDate\":\"Sep 22\",\"close\":397402.27,\"formattedClose\":\"397,402.27\",\"timestamp\":1664496000},{\"formattedDate\":\"Oct 22\",\"close\":398871.25,\"formattedClose\":\"398,871.25\",\"timestamp\":1667174400},{\"formattedDate\":\"Nov 22\",\"close\":401527.62,\"formattedClose\":\"401,527.62\",\"timestamp\":1669766400},{\"formattedDate\":\"Dec 22\",\"close\":416783.78,\"formattedClose\":\"416,783.78\",\"timestamp\":1672444800},{\"formattedDate\":\"Jan 23\",\"close\":422064.71,\"formattedClose\":\"422,064.71\",\"timestamp\":1675123200},{\"formattedDate\":\"Feb 23\",\"close\":417679.36,\"formattedClose\":\"417,679.36\",\"timestamp\":1677542400}]"
   ]
  },
  {
   "cell_type": "code",
   "execution_count": 8,
   "id": "1ec41c8c",
   "metadata": {},
   "outputs": [
    {
     "data": {
      "text/html": [
       "<div>\n",
       "<style scoped>\n",
       "    .dataframe tbody tr th:only-of-type {\n",
       "        vertical-align: middle;\n",
       "    }\n",
       "\n",
       "    .dataframe tbody tr th {\n",
       "        vertical-align: top;\n",
       "    }\n",
       "\n",
       "    .dataframe thead th {\n",
       "        text-align: right;\n",
       "    }\n",
       "</style>\n",
       "<table border=\"1\" class=\"dataframe\">\n",
       "  <thead>\n",
       "    <tr style=\"text-align: right;\">\n",
       "      <th></th>\n",
       "      <th>formattedDate</th>\n",
       "      <th>close</th>\n",
       "      <th>formattedClose</th>\n",
       "      <th>timestamp</th>\n",
       "    </tr>\n",
       "  </thead>\n",
       "  <tbody>\n",
       "    <tr>\n",
       "      <th>55</th>\n",
       "      <td>Oct 22</td>\n",
       "      <td>398871.25</td>\n",
       "      <td>398,871.25</td>\n",
       "      <td>1667174400</td>\n",
       "    </tr>\n",
       "    <tr>\n",
       "      <th>56</th>\n",
       "      <td>Nov 22</td>\n",
       "      <td>401527.62</td>\n",
       "      <td>401,527.62</td>\n",
       "      <td>1669766400</td>\n",
       "    </tr>\n",
       "    <tr>\n",
       "      <th>57</th>\n",
       "      <td>Dec 22</td>\n",
       "      <td>416783.78</td>\n",
       "      <td>416,783.78</td>\n",
       "      <td>1672444800</td>\n",
       "    </tr>\n",
       "    <tr>\n",
       "      <th>58</th>\n",
       "      <td>Jan 23</td>\n",
       "      <td>422064.71</td>\n",
       "      <td>422,064.71</td>\n",
       "      <td>1675123200</td>\n",
       "    </tr>\n",
       "    <tr>\n",
       "      <th>59</th>\n",
       "      <td>Feb 23</td>\n",
       "      <td>417679.36</td>\n",
       "      <td>417,679.36</td>\n",
       "      <td>1677542400</td>\n",
       "    </tr>\n",
       "  </tbody>\n",
       "</table>\n",
       "</div>"
      ],
      "text/plain": [
       "   formattedDate      close formattedClose   timestamp\n",
       "55        Oct 22  398871.25     398,871.25  1667174400\n",
       "56        Nov 22  401527.62     401,527.62  1669766400\n",
       "57        Dec 22  416783.78     416,783.78  1672444800\n",
       "58        Jan 23  422064.71     422,064.71  1675123200\n",
       "59        Feb 23  417679.36     417,679.36  1677542400"
      ]
     },
     "execution_count": 8,
     "metadata": {},
     "output_type": "execute_result"
    }
   ],
   "source": [
    "import pandas as pd\n",
    "\n",
    "df_cncbbs = pd.DataFrame(rows)\n",
    "\n",
    "df_cncbbs.tail()"
   ]
  },
  {
   "cell_type": "markdown",
   "id": "b80249bd",
   "metadata": {},
   "source": [
    "## Combining all the liquidity pieces together"
   ]
  },
  {
   "cell_type": "markdown",
   "id": "5804b8e8",
   "metadata": {},
   "source": [
    "We want to prepare the dataset from 1st Jan 2020 to 15th Apr 2023 initially.\n",
    "\n",
    "Let's prepare the shape of a final liquidity DataFrame and we'll worry about filling the values of each column later as different preprocessing will be needed for different columns."
   ]
  },
  {
   "cell_type": "code",
   "execution_count": 9,
   "id": "c27780e4",
   "metadata": {},
   "outputs": [],
   "source": [
    "df_liquidity = pd.DataFrame(columns=['date', 'walcl', 'jpnassets', 'cncbbs', 'ecbassetsw', 'rrpontsyd', 'wtregen'])"
   ]
  },
  {
   "cell_type": "code",
   "execution_count": 10,
   "id": "0af9215e",
   "metadata": {},
   "outputs": [],
   "source": [
    "df_liquidity['date'] = [str(date)[:10] for date in pd.date_range('2020-01-01', '2023-04-19')]"
   ]
  },
  {
   "cell_type": "markdown",
   "id": "0ccd1c6f",
   "metadata": {},
   "source": [
    "The dataset is really small so let's do this step by step."
   ]
  },
  {
   "cell_type": "code",
   "execution_count": 11,
   "id": "35ebb6d4",
   "metadata": {},
   "outputs": [],
   "source": [
    "walcl_dts = [str(dt)[:10] for dt in fred_data['WALCL'].index]\n",
    "walcl_idxs = df_liquidity[df_liquidity['date'].isin(walcl_dts)].index\n",
    "\n",
    "df_liquidity['walcl'].loc[walcl_idxs] = fred_data['WALCL']['WALCL'].values\n",
    "df_liquidity['walcl'] = df_liquidity['walcl'].ffill()"
   ]
  },
  {
   "cell_type": "markdown",
   "id": "b25c818a",
   "metadata": {},
   "source": [
    "And we can repeat that for `RRPONTSYD` and `WTREGEN`."
   ]
  },
  {
   "cell_type": "code",
   "execution_count": 12,
   "id": "ddc2eb71",
   "metadata": {},
   "outputs": [
    {
     "name": "stderr",
     "output_type": "stream",
     "text": [
      "C:\\Users\\WKSLA-HEU-mhalu\\anaconda3\\lib\\site-packages\\pandas\\core\\indexing.py:1732: SettingWithCopyWarning: \n",
      "A value is trying to be set on a copy of a slice from a DataFrame\n",
      "\n",
      "See the caveats in the documentation: https://pandas.pydata.org/pandas-docs/stable/user_guide/indexing.html#returning-a-view-versus-a-copy\n",
      "  self._setitem_single_block(indexer, value, name)\n",
      "C:\\Users\\WKSLA-HEU-mhalu\\anaconda3\\lib\\site-packages\\pandas\\core\\indexing.py:1732: SettingWithCopyWarning: \n",
      "A value is trying to be set on a copy of a slice from a DataFrame\n",
      "\n",
      "See the caveats in the documentation: https://pandas.pydata.org/pandas-docs/stable/user_guide/indexing.html#returning-a-view-versus-a-copy\n",
      "  self._setitem_single_block(indexer, value, name)\n"
     ]
    }
   ],
   "source": [
    "for symbol in ['RRPONTSYD', 'WTREGEN']:\n",
    "    symbol_dts = [str(dt)[:10] for dt in fred_data[symbol].index]\n",
    "    symbol_idxs = df_liquidity[df_liquidity['date'].isin(symbol_dts)].index\n",
    "\n",
    "    df_liquidity[symbol.lower()].loc[symbol_idxs] = fred_data[symbol][symbol].values\n",
    "    df_liquidity[symbol.lower()] = df_liquidity[symbol.lower()].ffill()"
   ]
  },
  {
   "cell_type": "markdown",
   "id": "772852b3",
   "metadata": {},
   "source": [
    "In case of `JPNASSETS`, `CNCBBS` and `ECBASSETSW` columns, we need to express their raw values in different currency."
   ]
  },
  {
   "cell_type": "code",
   "execution_count": 13,
   "id": "37f9e7b6",
   "metadata": {},
   "outputs": [],
   "source": [
    "import numpy as np"
   ]
  },
  {
   "cell_type": "code",
   "execution_count": 14,
   "id": "cda5796d",
   "metadata": {},
   "outputs": [
    {
     "name": "stderr",
     "output_type": "stream",
     "text": [
      "C:\\Users\\WKSLA-HEU-mhalu\\anaconda3\\lib\\site-packages\\pandas\\core\\indexing.py:1732: SettingWithCopyWarning: \n",
      "A value is trying to be set on a copy of a slice from a DataFrame\n",
      "\n",
      "See the caveats in the documentation: https://pandas.pydata.org/pandas-docs/stable/user_guide/indexing.html#returning-a-view-versus-a-copy\n",
      "  self._setitem_single_block(indexer, value, name)\n"
     ]
    }
   ],
   "source": [
    "df_jpnassets = pd.DataFrame()\n",
    "df_jpnassets['date'] = [str(dt)[:10] for dt in pd.date_range(df_liquidity['date'].min(), df_liquidity['date'].max())]\n",
    "\n",
    "fx_dts = [str(dt)[:10] for dt in fx_data['JPY=X'].index if str(dt)[:10] >= df_jpnassets['date'].min()]\n",
    "fx_idxs = df_jpnassets[df_jpnassets['date'].isin(fx_dts)].index\n",
    "fx_values = fx_data['JPY=X'].loc[[dt for dt in fx_data['JPY=X'].index if str(dt)[:10] >= df_jpnassets['date'].min()]]['Close'].values\n",
    "df_jpnassets['usd_jpy'] = np.nan\n",
    "df_jpnassets['usd_jpy'].loc[fx_idxs] = fx_values\n",
    "df_jpnassets['usd_jpy'] = df_jpnassets['usd_jpy'].ffill()"
   ]
  },
  {
   "cell_type": "code",
   "execution_count": 15,
   "id": "4f262765",
   "metadata": {},
   "outputs": [
    {
     "name": "stderr",
     "output_type": "stream",
     "text": [
      "C:\\Users\\WKSLA-HEU-mhalu\\anaconda3\\lib\\site-packages\\pandas\\core\\indexing.py:1732: SettingWithCopyWarning: \n",
      "A value is trying to be set on a copy of a slice from a DataFrame\n",
      "\n",
      "See the caveats in the documentation: https://pandas.pydata.org/pandas-docs/stable/user_guide/indexing.html#returning-a-view-versus-a-copy\n",
      "  self._setitem_single_block(indexer, value, name)\n"
     ]
    }
   ],
   "source": [
    "df_jpnassets['jpnassets'] = np.nan\n",
    "values_dts = [str(dt)[:10] for dt in fred_data['JPNASSETS'].index]\n",
    "values_idxs = df_jpnassets[df_jpnassets['date'].isin(values_dts)].index\n",
    "df_jpnassets['jpnassets'].loc[values_idxs] = fred_data['JPNASSETS']['JPNASSETS'].values\n",
    "df_jpnassets['jpnassets'] = df_jpnassets['jpnassets'].ffill()"
   ]
  },
  {
   "cell_type": "code",
   "execution_count": 16,
   "id": "71ffd73c",
   "metadata": {},
   "outputs": [],
   "source": [
    "df_jpnassets['jpnassets_usd'] = df_jpnassets['jpnassets'] / df_jpnassets['usd_jpy']"
   ]
  },
  {
   "cell_type": "code",
   "execution_count": 17,
   "id": "6fd10650",
   "metadata": {},
   "outputs": [
    {
     "data": {
      "text/plain": [
       "True"
      ]
     },
     "execution_count": 17,
     "metadata": {},
     "output_type": "execute_result"
    }
   ],
   "source": [
    "all(df_jpnassets['date'] == df_liquidity['date'])"
   ]
  },
  {
   "cell_type": "code",
   "execution_count": 18,
   "id": "47711277",
   "metadata": {},
   "outputs": [],
   "source": [
    "df_liquidity['jpnassets'] = df_jpnassets['jpnassets_usd'].values"
   ]
  },
  {
   "cell_type": "code",
   "execution_count": 19,
   "id": "d9afc3aa",
   "metadata": {},
   "outputs": [
    {
     "data": {
      "text/html": [
       "<div>\n",
       "<style scoped>\n",
       "    .dataframe tbody tr th:only-of-type {\n",
       "        vertical-align: middle;\n",
       "    }\n",
       "\n",
       "    .dataframe tbody tr th {\n",
       "        vertical-align: top;\n",
       "    }\n",
       "\n",
       "    .dataframe thead th {\n",
       "        text-align: right;\n",
       "    }\n",
       "</style>\n",
       "<table border=\"1\" class=\"dataframe\">\n",
       "  <thead>\n",
       "    <tr style=\"text-align: right;\">\n",
       "      <th></th>\n",
       "      <th>date</th>\n",
       "      <th>walcl</th>\n",
       "      <th>jpnassets</th>\n",
       "      <th>cncbbs</th>\n",
       "      <th>ecbassetsw</th>\n",
       "      <th>rrpontsyd</th>\n",
       "      <th>wtregen</th>\n",
       "    </tr>\n",
       "  </thead>\n",
       "  <tbody>\n",
       "    <tr>\n",
       "      <th>0</th>\n",
       "      <td>2020-01-01</td>\n",
       "      <td>4173626.0</td>\n",
       "      <td>53214.011768</td>\n",
       "      <td>NaN</td>\n",
       "      <td>NaN</td>\n",
       "      <td>NaN</td>\n",
       "      <td>382.553</td>\n",
       "    </tr>\n",
       "    <tr>\n",
       "      <th>1</th>\n",
       "      <td>2020-01-02</td>\n",
       "      <td>4173626.0</td>\n",
       "      <td>53198.349198</td>\n",
       "      <td>NaN</td>\n",
       "      <td>NaN</td>\n",
       "      <td>3.100</td>\n",
       "      <td>382.553</td>\n",
       "    </tr>\n",
       "    <tr>\n",
       "      <th>2</th>\n",
       "      <td>2020-01-03</td>\n",
       "      <td>4173626.0</td>\n",
       "      <td>53281.667533</td>\n",
       "      <td>NaN</td>\n",
       "      <td>NaN</td>\n",
       "      <td>4.251</td>\n",
       "      <td>382.553</td>\n",
       "    </tr>\n",
       "    <tr>\n",
       "      <th>3</th>\n",
       "      <td>2020-01-04</td>\n",
       "      <td>4173626.0</td>\n",
       "      <td>53281.667533</td>\n",
       "      <td>NaN</td>\n",
       "      <td>NaN</td>\n",
       "      <td>4.251</td>\n",
       "      <td>382.553</td>\n",
       "    </tr>\n",
       "    <tr>\n",
       "      <th>4</th>\n",
       "      <td>2020-01-05</td>\n",
       "      <td>4173626.0</td>\n",
       "      <td>53281.667533</td>\n",
       "      <td>NaN</td>\n",
       "      <td>NaN</td>\n",
       "      <td>4.251</td>\n",
       "      <td>382.553</td>\n",
       "    </tr>\n",
       "  </tbody>\n",
       "</table>\n",
       "</div>"
      ],
      "text/plain": [
       "         date      walcl     jpnassets cncbbs ecbassetsw  rrpontsyd  wtregen\n",
       "0  2020-01-01  4173626.0  53214.011768    NaN        NaN        NaN  382.553\n",
       "1  2020-01-02  4173626.0  53198.349198    NaN        NaN      3.100  382.553\n",
       "2  2020-01-03  4173626.0  53281.667533    NaN        NaN      4.251  382.553\n",
       "3  2020-01-04  4173626.0  53281.667533    NaN        NaN      4.251  382.553\n",
       "4  2020-01-05  4173626.0  53281.667533    NaN        NaN      4.251  382.553"
      ]
     },
     "execution_count": 19,
     "metadata": {},
     "output_type": "execute_result"
    }
   ],
   "source": [
    "df_liquidity.head()"
   ]
  },
  {
   "cell_type": "code",
   "execution_count": 20,
   "id": "fd1609c0",
   "metadata": {},
   "outputs": [
    {
     "name": "stderr",
     "output_type": "stream",
     "text": [
      "C:\\Users\\WKSLA-HEU-mhalu\\anaconda3\\lib\\site-packages\\pandas\\core\\indexing.py:1732: SettingWithCopyWarning: \n",
      "A value is trying to be set on a copy of a slice from a DataFrame\n",
      "\n",
      "See the caveats in the documentation: https://pandas.pydata.org/pandas-docs/stable/user_guide/indexing.html#returning-a-view-versus-a-copy\n",
      "  self._setitem_single_block(indexer, value, name)\n"
     ]
    }
   ],
   "source": [
    "df_ecbassetsw = pd.DataFrame()\n",
    "df_ecbassetsw['date'] = [str(dt)[:10] for dt in pd.date_range(df_liquidity['date'].min(), df_liquidity['date'].max())]\n",
    "\n",
    "fx_dts = [str(dt)[:10] for dt in fx_data['EURUSD=X'].index if str(dt)[:10] >= df_ecbassetsw['date'].min()]\n",
    "fx_idxs = df_ecbassetsw[df_ecbassetsw['date'].isin(fx_dts)].index\n",
    "fx_values = fx_data['EURUSD=X'].loc[[dt for dt in fx_data['EURUSD=X'].index if str(dt)[:10] >= df_ecbassetsw['date'].min()]]['Close'].values\n",
    "df_ecbassetsw['eur_usd'] = np.nan\n",
    "df_ecbassetsw['eur_usd'].loc[fx_idxs] = fx_values\n",
    "df_ecbassetsw['eur_usd'] = df_ecbassetsw['eur_usd'].ffill()"
   ]
  },
  {
   "cell_type": "code",
   "execution_count": 21,
   "id": "21b21f20",
   "metadata": {},
   "outputs": [
    {
     "name": "stderr",
     "output_type": "stream",
     "text": [
      "C:\\Users\\WKSLA-HEU-mhalu\\anaconda3\\lib\\site-packages\\pandas\\core\\indexing.py:1732: SettingWithCopyWarning: \n",
      "A value is trying to be set on a copy of a slice from a DataFrame\n",
      "\n",
      "See the caveats in the documentation: https://pandas.pydata.org/pandas-docs/stable/user_guide/indexing.html#returning-a-view-versus-a-copy\n",
      "  self._setitem_single_block(indexer, value, name)\n"
     ]
    }
   ],
   "source": [
    "df_ecbassetsw['ecbassetsw'] = np.nan\n",
    "values_dts = [str(dt)[:10] for dt in fred_data['ECBASSETSW'].index]\n",
    "values_idxs = df_ecbassetsw[df_ecbassetsw['date'].isin(values_dts)].index\n",
    "df_ecbassetsw['ecbassetsw'].loc[values_idxs] = fred_data['ECBASSETSW']['ECBASSETSW'].values\n",
    "df_ecbassetsw['ecbassetsw'] = df_ecbassetsw['ecbassetsw'].ffill()"
   ]
  },
  {
   "cell_type": "code",
   "execution_count": 22,
   "id": "51be2eaf",
   "metadata": {},
   "outputs": [],
   "source": [
    "df_ecbassetsw['ecbassetsw_usd'] = df_ecbassetsw['ecbassetsw'] * df_ecbassetsw['eur_usd']"
   ]
  },
  {
   "cell_type": "code",
   "execution_count": 23,
   "id": "ce44c136",
   "metadata": {},
   "outputs": [
    {
     "data": {
      "text/plain": [
       "True"
      ]
     },
     "execution_count": 23,
     "metadata": {},
     "output_type": "execute_result"
    }
   ],
   "source": [
    "all(df_ecbassetsw['date'] == df_liquidity['date'])"
   ]
  },
  {
   "cell_type": "code",
   "execution_count": 24,
   "id": "4ba2fcc0",
   "metadata": {},
   "outputs": [],
   "source": [
    "df_liquidity['ecbassetsw'] = df_ecbassetsw['ecbassetsw_usd'].values"
   ]
  },
  {
   "cell_type": "code",
   "execution_count": 25,
   "id": "b26a20a2",
   "metadata": {},
   "outputs": [
    {
     "data": {
      "text/html": [
       "<div>\n",
       "<style scoped>\n",
       "    .dataframe tbody tr th:only-of-type {\n",
       "        vertical-align: middle;\n",
       "    }\n",
       "\n",
       "    .dataframe tbody tr th {\n",
       "        vertical-align: top;\n",
       "    }\n",
       "\n",
       "    .dataframe thead th {\n",
       "        text-align: right;\n",
       "    }\n",
       "</style>\n",
       "<table border=\"1\" class=\"dataframe\">\n",
       "  <thead>\n",
       "    <tr style=\"text-align: right;\">\n",
       "      <th></th>\n",
       "      <th>date</th>\n",
       "      <th>walcl</th>\n",
       "      <th>jpnassets</th>\n",
       "      <th>cncbbs</th>\n",
       "      <th>ecbassetsw</th>\n",
       "      <th>rrpontsyd</th>\n",
       "      <th>wtregen</th>\n",
       "    </tr>\n",
       "  </thead>\n",
       "  <tbody>\n",
       "    <tr>\n",
       "      <th>0</th>\n",
       "      <td>2020-01-01</td>\n",
       "      <td>4173626.0</td>\n",
       "      <td>53214.011768</td>\n",
       "      <td>NaN</td>\n",
       "      <td>NaN</td>\n",
       "      <td>NaN</td>\n",
       "      <td>382.553</td>\n",
       "    </tr>\n",
       "    <tr>\n",
       "      <th>1</th>\n",
       "      <td>2020-01-02</td>\n",
       "      <td>4173626.0</td>\n",
       "      <td>53198.349198</td>\n",
       "      <td>NaN</td>\n",
       "      <td>NaN</td>\n",
       "      <td>3.100</td>\n",
       "      <td>382.553</td>\n",
       "    </tr>\n",
       "    <tr>\n",
       "      <th>2</th>\n",
       "      <td>2020-01-03</td>\n",
       "      <td>4173626.0</td>\n",
       "      <td>53281.667533</td>\n",
       "      <td>NaN</td>\n",
       "      <td>5.210400e+06</td>\n",
       "      <td>4.251</td>\n",
       "      <td>382.553</td>\n",
       "    </tr>\n",
       "    <tr>\n",
       "      <th>3</th>\n",
       "      <td>2020-01-04</td>\n",
       "      <td>4173626.0</td>\n",
       "      <td>53281.667533</td>\n",
       "      <td>NaN</td>\n",
       "      <td>5.210400e+06</td>\n",
       "      <td>4.251</td>\n",
       "      <td>382.553</td>\n",
       "    </tr>\n",
       "    <tr>\n",
       "      <th>4</th>\n",
       "      <td>2020-01-05</td>\n",
       "      <td>4173626.0</td>\n",
       "      <td>53281.667533</td>\n",
       "      <td>NaN</td>\n",
       "      <td>5.210400e+06</td>\n",
       "      <td>4.251</td>\n",
       "      <td>382.553</td>\n",
       "    </tr>\n",
       "  </tbody>\n",
       "</table>\n",
       "</div>"
      ],
      "text/plain": [
       "         date      walcl     jpnassets cncbbs    ecbassetsw  rrpontsyd  \\\n",
       "0  2020-01-01  4173626.0  53214.011768    NaN           NaN        NaN   \n",
       "1  2020-01-02  4173626.0  53198.349198    NaN           NaN      3.100   \n",
       "2  2020-01-03  4173626.0  53281.667533    NaN  5.210400e+06      4.251   \n",
       "3  2020-01-04  4173626.0  53281.667533    NaN  5.210400e+06      4.251   \n",
       "4  2020-01-05  4173626.0  53281.667533    NaN  5.210400e+06      4.251   \n",
       "\n",
       "   wtregen  \n",
       "0  382.553  \n",
       "1  382.553  \n",
       "2  382.553  \n",
       "3  382.553  \n",
       "4  382.553  "
      ]
     },
     "execution_count": 25,
     "metadata": {},
     "output_type": "execute_result"
    }
   ],
   "source": [
    "df_liquidity.head()"
   ]
  },
  {
   "cell_type": "code",
   "execution_count": 26,
   "id": "a59245f1",
   "metadata": {},
   "outputs": [],
   "source": [
    "import datetime"
   ]
  },
  {
   "cell_type": "code",
   "execution_count": 27,
   "id": "cce03c2f",
   "metadata": {},
   "outputs": [],
   "source": [
    "df_cncbbs['ts'] = df_cncbbs['timestamp'].map(lambda x: datetime.datetime.fromtimestamp(x))"
   ]
  },
  {
   "cell_type": "code",
   "execution_count": 28,
   "id": "adc26fd1",
   "metadata": {},
   "outputs": [],
   "source": [
    "df_cncbbs['date'] = df_cncbbs['ts'].astype(str).map(lambda x: x[:8] + '01')"
   ]
  },
  {
   "cell_type": "code",
   "execution_count": 29,
   "id": "2460d012",
   "metadata": {},
   "outputs": [],
   "source": [
    "df_cncbbs_readings = df_cncbbs[['date', 'close']].copy()"
   ]
  },
  {
   "cell_type": "code",
   "execution_count": 30,
   "id": "c0b67055",
   "metadata": {},
   "outputs": [
    {
     "name": "stderr",
     "output_type": "stream",
     "text": [
      "C:\\Users\\WKSLA-HEU-mhalu\\anaconda3\\lib\\site-packages\\pandas\\core\\indexing.py:1732: SettingWithCopyWarning: \n",
      "A value is trying to be set on a copy of a slice from a DataFrame\n",
      "\n",
      "See the caveats in the documentation: https://pandas.pydata.org/pandas-docs/stable/user_guide/indexing.html#returning-a-view-versus-a-copy\n",
      "  self._setitem_single_block(indexer, value, name)\n"
     ]
    }
   ],
   "source": [
    "df_cncbbs = pd.DataFrame()\n",
    "df_cncbbs['date'] = [str(dt)[:10] for dt in pd.date_range(df_liquidity['date'].min(), df_liquidity['date'].max())]\n",
    "\n",
    "fx_dts = [str(dt)[:10] for dt in fx_data['CNY=X'].index if str(dt)[:10] >= df_cncbbs['date'].min()]\n",
    "fx_idxs = df_cncbbs[df_cncbbs['date'].isin(fx_dts)].index\n",
    "fx_values = fx_data['CNY=X'].loc[[dt for dt in fx_data['CNY=X'].index if str(dt)[:10] >= df_cncbbs['date'].min()]]['Close'].values\n",
    "df_cncbbs['usd_cny'] = np.nan\n",
    "df_cncbbs['usd_cny'].loc[fx_idxs] = fx_values\n",
    "df_cncbbs['usd_cny'] = df_cncbbs['usd_cny'].ffill()"
   ]
  },
  {
   "cell_type": "code",
   "execution_count": 31,
   "id": "44dcc483",
   "metadata": {},
   "outputs": [],
   "source": [
    "df_cncbbs['cncbbs'] = np.nan\n",
    "values_dts = [str(dt)[:10] for dt in df_cncbbs_readings['date']]\n",
    "values_idxs = df_cncbbs[df_cncbbs['date'].isin(values_dts)].index\n",
    "df_cncbbs['cncbbs'].loc[values_idxs] = df_cncbbs_readings['close'].iloc[-len(values_idxs):].values\n",
    "df_cncbbs['cncbbs'] = df_cncbbs['cncbbs'].ffill()"
   ]
  },
  {
   "cell_type": "code",
   "execution_count": 32,
   "id": "a8bf0769",
   "metadata": {},
   "outputs": [],
   "source": [
    "df_cncbbs['cncbbs_usd'] = df_cncbbs['cncbbs'] / df_cncbbs['usd_cny']"
   ]
  },
  {
   "cell_type": "code",
   "execution_count": 33,
   "id": "fa6b7e61",
   "metadata": {
    "scrolled": true
   },
   "outputs": [
    {
     "data": {
      "text/plain": [
       "True"
      ]
     },
     "execution_count": 33,
     "metadata": {},
     "output_type": "execute_result"
    }
   ],
   "source": [
    "all(df_cncbbs['date'] == df_liquidity['date'])"
   ]
  },
  {
   "cell_type": "code",
   "execution_count": 34,
   "id": "d97402b3",
   "metadata": {},
   "outputs": [],
   "source": [
    "df_liquidity['cncbbs'] = df_cncbbs['cncbbs_usd'].values"
   ]
  },
  {
   "cell_type": "code",
   "execution_count": 35,
   "id": "6dbce250",
   "metadata": {},
   "outputs": [],
   "source": [
    "df_liquidity = df_liquidity.bfill()"
   ]
  },
  {
   "cell_type": "markdown",
   "id": "76b84b74",
   "metadata": {},
   "source": [
    "## Time for units"
   ]
  },
  {
   "cell_type": "markdown",
   "id": "7a9df005",
   "metadata": {},
   "source": [
    "Units of different columns:\n",
    "* `walcl` - millions of dollars\n",
    "* `jpnassets` - 100 millions of dollars\n",
    "* `cncbbs` - 100 millions of dollars\n",
    "* `ecbassetsw` - millions of dollars\n",
    "* `rrpontsyd` - billions of dollars\n",
    "* `wtregen` - billions of dollars\n",
    "\n",
    "Let's use billions of dollars as a final unit."
   ]
  },
  {
   "cell_type": "code",
   "execution_count": 36,
   "id": "4c6706c9",
   "metadata": {},
   "outputs": [],
   "source": [
    "df_liquidity['walcl'] = df_liquidity['walcl'] / 1000\n",
    "df_liquidity['jpnassets'] = df_liquidity['jpnassets'] / 10\n",
    "df_liquidity['cncbbs'] = df_liquidity['cncbbs'] / 10\n",
    "df_liquidity['ecbassetsw'] = df_liquidity['ecbassetsw'] / 1000"
   ]
  },
  {
   "cell_type": "code",
   "execution_count": 37,
   "id": "a55f11c3",
   "metadata": {},
   "outputs": [],
   "source": [
    "df_liquidity['liquidity'] = df_liquidity.iloc[:, 1:5].sum(axis=1) - df_liquidity.iloc[:, -2:].sum(axis=1)"
   ]
  },
  {
   "cell_type": "code",
   "execution_count": 38,
   "id": "607cfe45",
   "metadata": {},
   "outputs": [],
   "source": [
    "df_liquidity.to_csv('df_liquidity.csv', index=False)"
   ]
  },
  {
   "cell_type": "code",
   "execution_count": 54,
   "id": "29a5cbbe",
   "metadata": {},
   "outputs": [
    {
     "data": {
      "text/plain": [
       "Text(0.5, 1.0, 'Global liquidity over time\\n')"
      ]
     },
     "execution_count": 54,
     "metadata": {},
     "output_type": "execute_result"
    },
    {
     "data": {
      "image/png": "[encoded data removed]",
      "text/plain": [
       "<Figure size 1440x432 with 1 Axes>"
      ]
     },
     "metadata": {
      "needs_background": "light"
     },
     "output_type": "display_data"
    }
   ],
   "source": [
    "df_liquidity.set_index('date')['liquidity'].plot(figsize=(20, 6))\n",
    "\n",
    "plt.xlabel('\\nDate', fontsize=14)\n",
    "plt.ylabel('Global liquidity [billions USD]\\n', fontsize=14)\n",
    "plt.title('Global liquidity over time\\n', fontsize=20)"
   ]
  },
  {
   "cell_type": "code",
   "execution_count": 40,
   "id": "b0acac39",
   "metadata": {},
   "outputs": [],
   "source": [
    "import pandas as pd\n",
    "import yfinance as yf\n",
    "import numpy as np\n",
    "import math\n",
    "from mplfinance.original_flavor import candlestick_ohlc\n",
    "import matplotlib.dates as mpl_dates\n",
    "import matplotlib.pyplot as plt"
   ]
  },
  {
   "cell_type": "code",
   "execution_count": 48,
   "id": "ea2c4319",
   "metadata": {},
   "outputs": [],
   "source": [
    "symbol = '^GSPC'\n",
    "start = '2020-01-01'\n",
    "end = '2023-04-04'\n",
    "interval = '1d'"
   ]
  },
  {
   "cell_type": "code",
   "execution_count": 49,
   "id": "7f7474c6",
   "metadata": {},
   "outputs": [
    {
     "name": "stdout",
     "output_type": "stream",
     "text": [
      "[*********************100%***********************]  1 of 1 completed\n"
     ]
    }
   ],
   "source": [
    "df = yf.download(tickers=symbol,\n",
    "                 start=start,\n",
    "                 end=end,\n",
    "                 interval=interval,\n",
    "                 threads=False)"
   ]
  },
  {
   "cell_type": "code",
   "execution_count": 50,
   "id": "b6a3a255",
   "metadata": {},
   "outputs": [],
   "source": [
    "df['Date'] = pd.to_datetime(df.index)\n",
    "df['Date'] = df['Date'].apply(mpl_dates.date2num)\n",
    "df = df.loc[:,['Date', 'Open', 'High', 'Low', 'Close', 'Volume']]\n",
    "df.columns = df.columns.str.lower()"
   ]
  },
  {
   "cell_type": "code",
   "execution_count": 51,
   "id": "bed6fa47",
   "metadata": {},
   "outputs": [
    {
     "data": {
      "text/plain": [
       "Text(0, 0.5, 'Price\\n')"
      ]
     },
     "execution_count": 51,
     "metadata": {},
     "output_type": "execute_result"
    },
    {
     "data": {
      "image/png": "[encoded data removed]",
      "text/plain": [
       "<Figure size 1152x648 with 1 Axes>"
      ]
     },
     "metadata": {
      "needs_background": "light"
     },
     "output_type": "display_data"
    }
   ],
   "source": [
    "fig, ax = plt.subplots(figsize=(16, 9))   \n",
    "\n",
    "candlestick_ohlc(ax,\n",
    "                 df.values,\n",
    "                 width=0.05,\n",
    "                 colorup='green',\n",
    "                 colordown='red', alpha=0.8)\n",
    "\n",
    "date_format = mpl_dates.DateFormatter('%d %b %Y')\n",
    "\n",
    "ax.xaxis.set_major_formatter(date_format)    \n",
    "\n",
    "ax.set_title(f'{symbol}\\n{start} to {end}\\n', fontsize=20)\n",
    "ax.set_ylabel('Price\\n', fontsize=14)"
   ]
  },
  {
   "cell_type": "code",
   "execution_count": 45,
   "id": "5b0f1b73",
   "metadata": {},
   "outputs": [
    {
     "data": {
      "text/plain": [
       "<AxesSubplot:xlabel='date'>"
      ]
     },
     "execution_count": 45,
     "metadata": {},
     "output_type": "execute_result"
    },
    {
     "data": {
      "image/png": "[encoded data removed]",
      "text/plain": [
       "<Figure size 1440x432 with 1 Axes>"
      ]
     },
     "metadata": {
      "needs_background": "light"
     },
     "output_type": "display_data"
    }
   ],
   "source": [
    "df_liquidity.set_index('date')['liquidity'].plot(figsize=(20, 6))"
   ]
  },
  {
   "cell_type": "code",
   "execution_count": null,
   "id": "72d73e3d",
   "metadata": {},
   "outputs": [],
   "source": []
  }
 ],
 "metadata": {
  "kernelspec": {
   "display_name": "Python 3 (ipykernel)",
   "language": "python",
   "name": "python3"
  },
  "language_info": {
   "codemirror_mode": {
    "name": "ipython",
    "version": 3
   },
   "file_extension": ".py",
   "mimetype": "text/x-python",
   "name": "python",
   "nbconvert_exporter": "python",
   "pygments_lexer": "ipython3",
   "version": "3.9.7"
  }
 },
 "nbformat": 4,
 "nbformat_minor": 5
}
